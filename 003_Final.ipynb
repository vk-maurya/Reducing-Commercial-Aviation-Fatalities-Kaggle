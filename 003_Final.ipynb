{
 "cells": [
  {
   "cell_type": "code",
   "execution_count": null,
   "metadata": {},
   "outputs": [],
   "source": [
    "import warnings\n",
    "warnings.filterwarnings(\"ignore\")\n",
    "import shutil\n",
    "import os\n",
    "import pandas as pd\n",
    "import matplotlib\n",
    "matplotlib.use(u'nbAgg')\n",
    "import matplotlib.pyplot as plt\n",
    "import seaborn as sns\n",
    "import numpy as np\n",
    "import lightgbm\n",
    "from lightgbm import LGBMClassifier\n",
    "import pickle\n",
    "from sklearn.manifold import TSNE\n",
    "from sklearn import preprocessing\n",
    "import pandas as pd\n",
    "from multiprocessing import Process# this is used for multithreading\n",
    "import multiprocessing\n",
    "import codecs# this is used for file operations \n",
    "import random as r\n",
    "from xgboost import XGBClassifier\n",
    "from sklearn.model_selection import RandomizedSearchCV\n",
    "from sklearn.tree import DecisionTreeClassifier\n",
    "from sklearn.calibration import CalibratedClassifierCV\n",
    "from sklearn.neighbors import KNeighborsClassifier\n",
    "from sklearn.metrics import log_loss\n",
    "from sklearn.metrics import confusion_matrix\n",
    "from sklearn.model_selection import train_test_split\n",
    "from sklearn.linear_model import LogisticRegression\n",
    "from sklearn.ensemble import RandomForestClassifier\n",
    "np.random.seed(1)"
   ]
  },
  {
   "cell_type": "code",
   "execution_count": 2,
   "metadata": {},
   "outputs": [],
   "source": [
    "def reduce_mem_usage(df):\n",
    "    \"\"\" \n",
    "    iterate through all the columns of a dataframe and \n",
    "    modify the data type to reduce memory usage.        \n",
    "    \"\"\"\n",
    "    start_mem = df.memory_usage().sum() / 1024**2\n",
    "    print(('Memory usage of dataframe is {:.2f}' \n",
    "                     'MB').format(start_mem))\n",
    "    \n",
    "    for col in df.columns:\n",
    "        col_type = df[col].dtype\n",
    "        \n",
    "        if col_type != object:\n",
    "            c_min = df[col].min()\n",
    "            c_max = df[col].max()\n",
    "            if str(col_type)[:3] == 'int':\n",
    "                if c_min > np.iinfo(np.int8).min and c_max <\\\n",
    "                  np.iinfo(np.int8).max:\n",
    "                    df[col] = df[col].astype(np.int8)\n",
    "                elif c_min > np.iinfo(np.int16).min and c_max <\\\n",
    "                   np.iinfo(np.int16).max:\n",
    "                    df[col] = df[col].astype(np.int16)\n",
    "                elif c_min > np.iinfo(np.int32).min and c_max <\\\n",
    "                   np.iinfo(np.int32).max:\n",
    "                    df[col] = df[col].astype(np.int32)\n",
    "                elif c_min > np.iinfo(np.int64).min and c_max <\\\n",
    "                   np.iinfo(np.int64).max:\n",
    "                    df[col] = df[col].astype(np.int64)  \n",
    "            else:\n",
    "                if c_min > np.finfo(np.float16).min and c_max <\\\n",
    "                   np.finfo(np.float16).max:\n",
    "                    df[col] = df[col].astype(np.float16)\n",
    "                elif c_min > np.finfo(np.float32).min and c_max <\\\n",
    "                   np.finfo(np.float32).max:\n",
    "                    df[col] = df[col].astype(np.float32)\n",
    "                else:\n",
    "                    df[col] = df[col].astype(np.float64)\n",
    "        else:\n",
    "            df[col] = df[col].astype('category')\n",
    "    end_mem = df.memory_usage().sum() / 1024**2\n",
    "    print(('Memory usage after optimization is: {:.2f}' \n",
    "                              'MB').format(end_mem))\n",
    "    print('Decreased by {:.1f}%'.format(100 * (start_mem - end_mem) \n",
    "                                             / start_mem))\n",
    "    \n",
    "    return df"
   ]
  },
  {
   "cell_type": "code",
   "execution_count": 4,
   "metadata": {},
   "outputs": [
    {
     "name": "stdout",
     "output_type": "stream",
     "text": [
      "Memory usage of dataframe is 4086.12MB\n",
      "Memory usage after optimization is: 988.93MB\n",
      "Decreased by 75.8%\n"
     ]
    }
   ],
   "source": [
    "train_df = reduce_mem_usage(pd.read_csv(\"Featured_train.csv\"))"
   ]
  },
  {
   "cell_type": "code",
   "execution_count": null,
   "metadata": {},
   "outputs": [],
   "source": [
    "y_true = train_df['event']\n",
    "train_df.drop(columns=['event'],axis=1,inplace=True)"
   ]
  },
  {
   "cell_type": "code",
   "execution_count": null,
   "metadata": {},
   "outputs": [],
   "source": [
    "data = train_df[:1]"
   ]
  },
  {
   "cell_type": "code",
   "execution_count": 77,
   "metadata": {},
   "outputs": [
    {
     "name": "stdout",
     "output_type": "stream",
     "text": [
      "Model has predicted Event :  A\n"
     ]
    }
   ],
   "source": [
    "def function1(X):\n",
    "     #converting data into numpy array\n",
    "    if(type(X)=='pandas.core.frame.DataFrame'):\n",
    "        X = X.to_numpy()\n",
    "    else:\n",
    "        X = np.array(X)\n",
    "        \n",
    "    if(X.shape[1]!=27):\n",
    "        return \"27 featurs are required for prediction\"\n",
    "    experiment_encode= {'CA':0,'DA':1,'SS':2,'LOFT':3}\n",
    "    X[0][1] =experiment_encode[X[0][1]]\n",
    "    #loading Best Model\n",
    "    model = pickle.load(open(\"LightGBM_best.sav\",\"rb\"))\n",
    "    event_encode= {0:'A',1:'B',2:'C',3:'D'}\n",
    "    return event_encode[np.argmax(model.predict(X))]\n",
    "result =  final(data)\n",
    "print(\"Model has predicted Event : \",result)"
   ]
  },
  {
   "cell_type": "code",
   "execution_count": 24,
   "metadata": {
    "colab": {
     "base_uri": "https://localhost:8080/",
     "height": 119
    },
    "id": "uu5buaGEogdt",
    "outputId": "7d7a3974-c2a7-4f8a-932b-3026ca246449"
   },
   "outputs": [
    {
     "name": "stdout",
     "output_type": "stream",
     "text": [
      "Accurcy score of model 0.9505395156901365\n",
      "Log loss of  Model 0.17548799084282016\n",
      "[[2841552     826    2024    4407]\n",
      " [  49159   81438       0       0]\n",
      " [    443       0 1652243       0]\n",
      " [ 183886       0       0   51443]]\n"
     ]
    }
   ],
   "source": [
    "from sklearn.metrics import accuracy_score,log_loss,confusion_matrix\n",
    "def function2(X,y):\n",
    "  X_train,X_test,y_train,y_test = train_test_split(X,y,test_size=0.2)\n",
    "  event_encode= {'A':0,'B':1,'C':2,'D':3}\n",
    "  y = y.apply(lambda x: event_encode[x])\n",
    "  experiment_encode= {'CA':0,'DA':1,'SS':2,'LOFT':3}\n",
    "  X['experiment'] = X['experiment'].apply(lambda x: experiment_encode[x])\n",
    "  X['experiment'] = X['experiment'].astype('int8')\n",
    "  model = pickle.load(open(\"LightGBM_best.sav\",\"rb\"))\n",
    "  predict_y_proba = model.predict(X)\n",
    "  predict_y  = np.argmax(predict_y_proba,axis=1)\n",
    "  print(\"Accurcy score of model\",accuracy_score(y,predict_y))\n",
    "  print(\"Log loss of  Model\",log_loss(y, predict_y_proba))\n",
    "  print(confusion_matrix(y,predict_y))\n",
    "    \n",
    "function2(train_df,y_true)   "
   ]
  }
 ],
 "metadata": {
  "kernelspec": {
   "display_name": "Python 3",
   "language": "python",
   "name": "python3"
  },
  "language_info": {
   "codemirror_mode": {
    "name": "ipython",
    "version": 3
   },
   "file_extension": ".py",
   "mimetype": "text/x-python",
   "name": "python",
   "nbconvert_exporter": "python",
   "pygments_lexer": "ipython3",
   "version": "3.8.5"
  },
  "varInspector": {
   "cols": {
    "lenName": 16,
    "lenType": 16,
    "lenVar": 40
   },
   "kernels_config": {
    "python": {
     "delete_cmd_postfix": "",
     "delete_cmd_prefix": "del ",
     "library": "var_list.py",
     "varRefreshCmd": "print(var_dic_list())"
    },
    "r": {
     "delete_cmd_postfix": ") ",
     "delete_cmd_prefix": "rm(",
     "library": "var_list.r",
     "varRefreshCmd": "cat(var_dic_list()) "
    }
   },
   "types_to_exclude": [
    "module",
    "function",
    "builtin_function_or_method",
    "instance",
    "_Feature"
   ],
   "window_display": false
  }
 },
 "nbformat": 4,
 "nbformat_minor": 4
}
